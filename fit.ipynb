{
 "cells": [
  {
   "cell_type": "code",
   "execution_count": null,
   "metadata": {},
   "outputs": [],
   "source": [
    "import torch\n",
    "import pickle\n",
    "import os\n",
    "\n",
    "os.sys.path.append(os.getcwd() +'/stylegan3')"
   ]
  },
  {
   "cell_type": "code",
   "execution_count": null,
   "metadata": {},
   "outputs": [],
   "source": [
    "# doing it on the CPU instead of the GPU\n",
    "# as the avaliable system memory was larger than the GPU memory \n",
    "device = 'cpu'\n",
    "#device = torch.device('cuda' if torch.cuda.is_available() else 'cpu')"
   ]
  },
  {
   "cell_type": "code",
   "execution_count": null,
   "metadata": {},
   "outputs": [],
   "source": [
    "model_name = \"stylegan2-ffhq-256x256.pkl\"\n",
    "with open(model_name, 'rb') as f:\n",
    "    G = pickle.load(f)['G_ema'].to(device)  # torch.nn.Module"
   ]
  },
  {
   "cell_type": "code",
   "execution_count": null,
   "metadata": {},
   "outputs": [],
   "source": [
    "with torch.no_grad():\n",
    "    torch.manual_seed(0)\n",
    "    latent = torch.randn((100000,512),dtype=torch.float32, device=device)\n",
    "    latent_out = torch.nn.LeakyReLU(5)(G.mapping(latent, None))\n",
    "    gaussian_fit = {\"mean\": latent_out.mean(0), \"std\": latent_out.std(0)}\n",
    "    torch.save(gaussian_fit,\"gaussian_fit_ffhq256.pt\")"
   ]
  }
 ],
 "metadata": {
  "kernelspec": {
   "display_name": "venv",
   "language": "python",
   "name": "python3"
  },
  "language_info": {
   "codemirror_mode": {
    "name": "ipython",
    "version": 3
   },
   "file_extension": ".py",
   "mimetype": "text/x-python",
   "name": "python",
   "nbconvert_exporter": "python",
   "pygments_lexer": "ipython3",
   "version": "3.10.6"
  },
  "orig_nbformat": 4
 },
 "nbformat": 4,
 "nbformat_minor": 2
}
